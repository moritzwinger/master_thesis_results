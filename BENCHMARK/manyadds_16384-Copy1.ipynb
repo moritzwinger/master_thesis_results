{
 "cells": [
  {
   "cell_type": "code",
   "execution_count": 25,
   "id": "e57996ee",
   "metadata": {},
   "outputs": [],
   "source": [
    "import pandas as pd\n",
    "import seaborn as sns"
   ]
  },
  {
   "cell_type": "code",
   "execution_count": 26,
   "id": "4243e5be",
   "metadata": {},
   "outputs": [],
   "source": [
    "sns.set_palette('deep')"
   ]
  },
  {
   "cell_type": "code",
   "execution_count": 27,
   "id": "beff03b7",
   "metadata": {},
   "outputs": [],
   "source": [
    "polydeg = '32768'\n",
    "#strip = 'adder : '\n",
    "title = 'manyadds'\n",
    "fname = 'manyadds'\n",
    "\n",
    "\n",
    "path1 = f'{fname}/{fname}_ModSwitch{polydeg}.csv'   #modswitch\n",
    "path2 = f'{fname}/{fname}_noModSwitch{polydeg}.csv' #no modswitch"
   ]
  },
  {
   "cell_type": "code",
   "execution_count": 28,
   "id": "228693bc",
   "metadata": {},
   "outputs": [],
   "source": [
    "df1 = pd.read_csv(path1)\n",
    "df2 = pd.read_csv(path2)\n",
    "\n",
    "#print(df1)\n",
    "\n",
    "dataMod = df1.iloc[:,[0,1]]\n",
    "dataNoMod = df2.iloc[:,[0,1]]\n",
    "\n",
    "dataMod['time'] = dataMod['time'] * 1e-3\n",
    "dataNoMod['time'] = dataNoMod['time'] * 1e-3\n",
    "\n",
    "\n",
    "concatenated = pd.concat([dataMod.assign(dataset='MODSWITCH'), dataNoMod.assign(dataset='NO MODSWITCH')])\n",
    "# dfMod = pd.DataFrame({'n' : df1.loc[:, \"n\"]})\n",
    "# print(dfMod)\n",
    "\n",
    "# for d in raw:\n",
    "#     data.append(pd.DataFrame({'time' : d.iloc[:, 1], 'n': d.columns[0]}))\n",
    "# data = pd.concat(data, axis=0).reset_index(drop=True)\n"
   ]
  },
  {
   "cell_type": "code",
   "execution_count": 29,
   "id": "7dbb242b",
   "metadata": {},
   "outputs": [
    {
     "data": {
      "text/html": [
       "<div>\n",
       "<style scoped>\n",
       "    .dataframe tbody tr th:only-of-type {\n",
       "        vertical-align: middle;\n",
       "    }\n",
       "\n",
       "    .dataframe tbody tr th {\n",
       "        vertical-align: top;\n",
       "    }\n",
       "\n",
       "    .dataframe thead th {\n",
       "        text-align: right;\n",
       "    }\n",
       "</style>\n",
       "<table border=\"1\" class=\"dataframe\">\n",
       "  <thead>\n",
       "    <tr style=\"text-align: right;\">\n",
       "      <th></th>\n",
       "      <th>n</th>\n",
       "      <th>time</th>\n",
       "      <th>dataset</th>\n",
       "    </tr>\n",
       "  </thead>\n",
       "  <tbody>\n",
       "    <tr>\n",
       "      <th>0</th>\n",
       "      <td>1</td>\n",
       "      <td>1849.719</td>\n",
       "      <td>MODSWITCH</td>\n",
       "    </tr>\n",
       "    <tr>\n",
       "      <th>1</th>\n",
       "      <td>1</td>\n",
       "      <td>1756.153</td>\n",
       "      <td>MODSWITCH</td>\n",
       "    </tr>\n",
       "    <tr>\n",
       "      <th>2</th>\n",
       "      <td>1</td>\n",
       "      <td>1666.539</td>\n",
       "      <td>MODSWITCH</td>\n",
       "    </tr>\n",
       "    <tr>\n",
       "      <th>3</th>\n",
       "      <td>1</td>\n",
       "      <td>1631.691</td>\n",
       "      <td>MODSWITCH</td>\n",
       "    </tr>\n",
       "    <tr>\n",
       "      <th>4</th>\n",
       "      <td>1</td>\n",
       "      <td>1625.242</td>\n",
       "      <td>MODSWITCH</td>\n",
       "    </tr>\n",
       "    <tr>\n",
       "      <th>...</th>\n",
       "      <td>...</td>\n",
       "      <td>...</td>\n",
       "      <td>...</td>\n",
       "    </tr>\n",
       "    <tr>\n",
       "      <th>94</th>\n",
       "      <td>512</td>\n",
       "      <td>5924.190</td>\n",
       "      <td>NO MODSWITCH</td>\n",
       "    </tr>\n",
       "    <tr>\n",
       "      <th>95</th>\n",
       "      <td>512</td>\n",
       "      <td>7385.049</td>\n",
       "      <td>NO MODSWITCH</td>\n",
       "    </tr>\n",
       "    <tr>\n",
       "      <th>96</th>\n",
       "      <td>512</td>\n",
       "      <td>6539.133</td>\n",
       "      <td>NO MODSWITCH</td>\n",
       "    </tr>\n",
       "    <tr>\n",
       "      <th>97</th>\n",
       "      <td>512</td>\n",
       "      <td>7100.165</td>\n",
       "      <td>NO MODSWITCH</td>\n",
       "    </tr>\n",
       "    <tr>\n",
       "      <th>98</th>\n",
       "      <td>512</td>\n",
       "      <td>2155.419</td>\n",
       "      <td>NO MODSWITCH</td>\n",
       "    </tr>\n",
       "  </tbody>\n",
       "</table>\n",
       "<p>194 rows × 3 columns</p>\n",
       "</div>"
      ],
      "text/plain": [
       "      n      time       dataset\n",
       "0     1  1849.719     MODSWITCH\n",
       "1     1  1756.153     MODSWITCH\n",
       "2     1  1666.539     MODSWITCH\n",
       "3     1  1631.691     MODSWITCH\n",
       "4     1  1625.242     MODSWITCH\n",
       "..  ...       ...           ...\n",
       "94  512  5924.190  NO MODSWITCH\n",
       "95  512  7385.049  NO MODSWITCH\n",
       "96  512  6539.133  NO MODSWITCH\n",
       "97  512  7100.165  NO MODSWITCH\n",
       "98  512  2155.419  NO MODSWITCH\n",
       "\n",
       "[194 rows x 3 columns]"
      ]
     },
     "execution_count": 29,
     "metadata": {},
     "output_type": "execute_result"
    }
   ],
   "source": [
    "concatenated"
   ]
  },
  {
   "cell_type": "code",
   "execution_count": 30,
   "id": "b073ab41",
   "metadata": {},
   "outputs": [
    {
     "data": {
      "image/png": "[encoded data removed]",
      "text/plain": [
       "<Figure size 432x288 with 1 Axes>"
      ]
     },
     "metadata": {
      "needs_background": "light"
     },
     "output_type": "display_data"
    }
   ],
   "source": [
    "g = sns.barplot(data=concatenated, x='n', y='time', hue=\"dataset\")\n",
    "#g.set_title(title + polydeg)\n",
    "g.set_title('d = ' + polydeg)\n",
    "g.set_xlabel('n')\n",
    "g.set_ylabel('time / ms')\n",
    "g.figure.savefig(f'{fname}/{fname}_{polydeg}_bar.jpg', transparent=False, format='jpg', bbox_inches='tight')"
   ]
  },
  {
   "cell_type": "code",
   "execution_count": 31,
   "id": "9cba07fe",
   "metadata": {},
   "outputs": [
    {
     "name": "stdout",
     "output_type": "stream",
     "text": [
      "Empty DataFrame\n",
      "Columns: [n, speedup]\n",
      "Index: []\n"
     ]
    },
    {
     "data": {
      "text/html": [
       "<div>\n",
       "<style scoped>\n",
       "    .dataframe tbody tr th:only-of-type {\n",
       "        vertical-align: middle;\n",
       "    }\n",
       "\n",
       "    .dataframe tbody tr th {\n",
       "        vertical-align: top;\n",
       "    }\n",
       "\n",
       "    .dataframe thead th {\n",
       "        text-align: right;\n",
       "    }\n",
       "</style>\n",
       "<table border=\"1\" class=\"dataframe\">\n",
       "  <thead>\n",
       "    <tr style=\"text-align: right;\">\n",
       "      <th></th>\n",
       "      <th>n</th>\n",
       "      <th>speedup</th>\n",
       "    </tr>\n",
       "  </thead>\n",
       "  <tbody>\n",
       "    <tr>\n",
       "      <th>0</th>\n",
       "      <td>1</td>\n",
       "      <td>1.035740</td>\n",
       "    </tr>\n",
       "    <tr>\n",
       "      <th>1</th>\n",
       "      <td>1</td>\n",
       "      <td>0.998965</td>\n",
       "    </tr>\n",
       "    <tr>\n",
       "      <th>2</th>\n",
       "      <td>1</td>\n",
       "      <td>1.066553</td>\n",
       "    </tr>\n",
       "    <tr>\n",
       "      <th>3</th>\n",
       "      <td>1</td>\n",
       "      <td>1.037615</td>\n",
       "    </tr>\n",
       "    <tr>\n",
       "      <th>4</th>\n",
       "      <td>1</td>\n",
       "      <td>1.026616</td>\n",
       "    </tr>\n",
       "    <tr>\n",
       "      <th>...</th>\n",
       "      <td>...</td>\n",
       "      <td>...</td>\n",
       "    </tr>\n",
       "    <tr>\n",
       "      <th>995</th>\n",
       "      <td>512</td>\n",
       "      <td>0.747699</td>\n",
       "    </tr>\n",
       "    <tr>\n",
       "      <th>996</th>\n",
       "      <td>512</td>\n",
       "      <td>0.876232</td>\n",
       "    </tr>\n",
       "    <tr>\n",
       "      <th>997</th>\n",
       "      <td>512</td>\n",
       "      <td>0.710453</td>\n",
       "    </tr>\n",
       "    <tr>\n",
       "      <th>998</th>\n",
       "      <td>512</td>\n",
       "      <td>0.941433</td>\n",
       "    </tr>\n",
       "    <tr>\n",
       "      <th>999</th>\n",
       "      <td>512</td>\n",
       "      <td>0.840896</td>\n",
       "    </tr>\n",
       "  </tbody>\n",
       "</table>\n",
       "<p>1000 rows × 2 columns</p>\n",
       "</div>"
      ],
      "text/plain": [
       "       n   speedup\n",
       "0      1  1.035740\n",
       "1      1  0.998965\n",
       "2      1  1.066553\n",
       "3      1  1.037615\n",
       "4      1  1.026616\n",
       "..   ...       ...\n",
       "995  512  0.747699\n",
       "996  512  0.876232\n",
       "997  512  0.710453\n",
       "998  512  0.941433\n",
       "999  512  0.840896\n",
       "\n",
       "[1000 rows x 2 columns]"
      ]
     },
     "execution_count": 31,
     "metadata": {},
     "output_type": "execute_result"
    }
   ],
   "source": [
    "#speedup bootstrapping analysis\n",
    "\n",
    "\n",
    "initialData = {'n': [], 'speedup': []}\n",
    "speedups = pd.DataFrame(initialData)\n",
    "\n",
    "print(speedups)\n",
    "\n",
    "for x in (2**p for p in range(0, 10)):\n",
    "    for i in range(100):\n",
    "        subsampleMod    =  dataMod[dataMod.n == x].sample(n=10, replace=True)\n",
    "        subsampleNoMod  =  dataNoMod[dataNoMod.n == x].sample(n=10, replace=True)\n",
    "        factor = (subsampleNoMod[\"time\"].mean()) / (subsampleMod[\"time\"].mean())\n",
    "        new_row = {'n': x, 'speedup': factor}\n",
    "        speedups = speedups.append(new_row, ignore_index=True)\n",
    "      \n",
    "        \n",
    "speedups = speedups.astype({\"n\": int})\n",
    "\n",
    "speedups\n",
    "#subsampleMod   = dataMod..sample(n=100, replace=True)\n",
    "#print(subsampleMod)\n"
   ]
  },
  {
   "cell_type": "code",
   "execution_count": 32,
   "id": "a1d1554e",
   "metadata": {},
   "outputs": [
    {
     "data": {
      "image/png": "[encoded data removed]",
      "text/plain": [
       "<Figure size 432x288 with 1 Axes>"
      ]
     },
     "metadata": {
      "needs_background": "light"
     },
     "output_type": "display_data"
    }
   ],
   "source": [
    "g = sns.barplot(data=speedups, x='n', y='speedup')\n",
    "#g.set_title(title + polydeg)\n",
    "g.set_title('d = ' + polydeg)\n",
    "g.set_xlabel('n')\n",
    "g.set_ylabel('speedup factor')\n",
    "g.figure.savefig(f'{fname}/{fname}_speedup_{polydeg}_bar.jpg', transparent=False, format='jpg', bbox_inches='tight')"
   ]
  },
  {
   "cell_type": "code",
   "execution_count": null,
   "id": "b2728c4e",
   "metadata": {},
   "outputs": [],
   "source": []
  },
  {
   "cell_type": "code",
   "execution_count": null,
   "id": "59dff244",
   "metadata": {},
   "outputs": [],
   "source": []
  },
  {
   "cell_type": "code",
   "execution_count": null,
   "id": "53c1448d",
   "metadata": {},
   "outputs": [],
   "source": []
  },
  {
   "cell_type": "code",
   "execution_count": null,
   "id": "d632c872",
   "metadata": {},
   "outputs": [],
   "source": []
  }
 ],
 "metadata": {
  "kernelspec": {
   "display_name": "Python 3 (ipykernel)",
   "language": "python",
   "name": "python3"
  },
  "language_info": {
   "codemirror_mode": {
    "name": "ipython",
    "version": 3
   },
   "file_extension": ".py",
   "mimetype": "text/x-python",
   "name": "python",
   "nbconvert_exporter": "python",
   "pygments_lexer": "ipython3",
   "version": "3.8.5"
  }
 },
 "nbformat": 4,
 "nbformat_minor": 5
}
