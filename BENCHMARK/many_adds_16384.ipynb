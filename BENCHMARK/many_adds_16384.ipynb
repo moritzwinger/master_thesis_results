{
 "cells": [
  {
   "cell_type": "code",
   "execution_count": 9,
   "id": "e57996ee",
   "metadata": {},
   "outputs": [],
   "source": [
    "import pandas as pd\n",
    "import seaborn as sns"
   ]
  },
  {
   "cell_type": "code",
   "execution_count": 10,
   "id": "4243e5be",
   "metadata": {},
   "outputs": [],
   "source": [
    "sns.set_palette('deep')"
   ]
  },
  {
   "cell_type": "code",
   "execution_count": 11,
   "id": "beff03b7",
   "metadata": {},
   "outputs": [],
   "source": [
    "polydeg = '16384'\n",
    "strip = 'many additions: '\n",
    "title = '$f(x,y,z) =( x^4 + y) \\cdot z^4 + \\sum_{i=1}^{12}a_i, \\quad d =$'\n",
    "fname = 'many_adds'\n",
    "\n",
    "path1 = f'{fname}/benchmark_{fname}_ModSwitch_{polydeg}.csv'   #modswitch\n",
    "path2 = f'{fname}/benchmark_{fname}_noModSwitch_{polydeg}.csv' #no modswitch"
   ]
  },
  {
   "cell_type": "code",
   "execution_count": 12,
   "id": "228693bc",
   "metadata": {},
   "outputs": [],
   "source": [
    "df1 = pd.read_csv(path1)\n",
    "df2 = pd.read_csv(path2)\n",
    "raw = (df1, df2)\n",
    "data = []\n",
    "for d in raw:\n",
    "    data.append(pd.DataFrame({'time' : d.iloc[:, 1], 'source': d.columns[1].replace(f'{strip}', '')}))\n",
    "data = pd.concat(data, axis=0).reset_index(drop=True)\n",
    "data['time'] = data['time'] * 1e-3"
   ]
  },
  {
   "cell_type": "code",
   "execution_count": 13,
   "id": "7dbb242b",
   "metadata": {},
   "outputs": [
    {
     "data": {
      "text/html": [
       "<div>\n",
       "<style scoped>\n",
       "    .dataframe tbody tr th:only-of-type {\n",
       "        vertical-align: middle;\n",
       "    }\n",
       "\n",
       "    .dataframe tbody tr th {\n",
       "        vertical-align: top;\n",
       "    }\n",
       "\n",
       "    .dataframe thead th {\n",
       "        text-align: right;\n",
       "    }\n",
       "</style>\n",
       "<table border=\"1\" class=\"dataframe\">\n",
       "  <thead>\n",
       "    <tr style=\"text-align: right;\">\n",
       "      <th></th>\n",
       "      <th>time</th>\n",
       "      <th>source</th>\n",
       "    </tr>\n",
       "  </thead>\n",
       "  <tbody>\n",
       "    <tr>\n",
       "      <th>0</th>\n",
       "      <td>426.010</td>\n",
       "      <td>MODSWITCH</td>\n",
       "    </tr>\n",
       "    <tr>\n",
       "      <th>1</th>\n",
       "      <td>359.753</td>\n",
       "      <td>MODSWITCH</td>\n",
       "    </tr>\n",
       "    <tr>\n",
       "      <th>2</th>\n",
       "      <td>359.404</td>\n",
       "      <td>MODSWITCH</td>\n",
       "    </tr>\n",
       "    <tr>\n",
       "      <th>3</th>\n",
       "      <td>356.227</td>\n",
       "      <td>MODSWITCH</td>\n",
       "    </tr>\n",
       "    <tr>\n",
       "      <th>4</th>\n",
       "      <td>361.862</td>\n",
       "      <td>MODSWITCH</td>\n",
       "    </tr>\n",
       "    <tr>\n",
       "      <th>...</th>\n",
       "      <td>...</td>\n",
       "      <td>...</td>\n",
       "    </tr>\n",
       "    <tr>\n",
       "      <th>195</th>\n",
       "      <td>331.645</td>\n",
       "      <td>no MODSWITCH</td>\n",
       "    </tr>\n",
       "    <tr>\n",
       "      <th>196</th>\n",
       "      <td>331.777</td>\n",
       "      <td>no MODSWITCH</td>\n",
       "    </tr>\n",
       "    <tr>\n",
       "      <th>197</th>\n",
       "      <td>331.589</td>\n",
       "      <td>no MODSWITCH</td>\n",
       "    </tr>\n",
       "    <tr>\n",
       "      <th>198</th>\n",
       "      <td>331.171</td>\n",
       "      <td>no MODSWITCH</td>\n",
       "    </tr>\n",
       "    <tr>\n",
       "      <th>199</th>\n",
       "      <td>331.474</td>\n",
       "      <td>no MODSWITCH</td>\n",
       "    </tr>\n",
       "  </tbody>\n",
       "</table>\n",
       "<p>200 rows × 2 columns</p>\n",
       "</div>"
      ],
      "text/plain": [
       "        time         source\n",
       "0    426.010      MODSWITCH\n",
       "1    359.753      MODSWITCH\n",
       "2    359.404      MODSWITCH\n",
       "3    356.227      MODSWITCH\n",
       "4    361.862      MODSWITCH\n",
       "..       ...            ...\n",
       "195  331.645   no MODSWITCH\n",
       "196  331.777   no MODSWITCH\n",
       "197  331.589   no MODSWITCH\n",
       "198  331.171   no MODSWITCH\n",
       "199  331.474   no MODSWITCH\n",
       "\n",
       "[200 rows x 2 columns]"
      ]
     },
     "execution_count": 13,
     "metadata": {},
     "output_type": "execute_result"
    }
   ],
   "source": [
    "data"
   ]
  },
  {
   "cell_type": "code",
   "execution_count": 14,
   "id": "9ee81ec3",
   "metadata": {},
   "outputs": [
    {
     "data": {
      "image/png": "[encoded data removed]",
      "text/plain": [
       "<Figure size 432x288 with 1 Axes>"
      ]
     },
     "metadata": {
      "needs_background": "light"
     },
     "output_type": "display_data"
    }
   ],
   "source": [
    "g = sns.boxplot(data=data, x='source', y='time')\n",
    "g.set_title(title + polydeg)\n",
    "g.set_xlabel('')\n",
    "g.set_ylabel('time / ms')\n",
    "g.figure.savefig( f'{fname}/{fname}_{polydeg}_box.jpg', transparent=False, format='jpg', bbox_inches='tight')"
   ]
  },
  {
   "cell_type": "code",
   "execution_count": 17,
   "id": "b073ab41",
   "metadata": {},
   "outputs": [
    {
     "data": {
      "image/png": "[encoded data removed]",
      "text/plain": [
       "<Figure size 432x288 with 1 Axes>"
      ]
     },
     "metadata": {
      "needs_background": "light"
     },
     "output_type": "display_data"
    }
   ],
   "source": [
    "g = sns.barplot(data=data, x='source', y='time')\n",
    "#g.set_title(title + polydeg)\n",
    "g.set_title('d = ' + polydeg)\n",
    "g.set_xlabel('')\n",
    "g.set_ylabel('time / ms')\n",
    "g.figure.savefig(f'{fname}/{fname}_{polydeg}_bar.jpg', transparent=False, format='jpg', bbox_inches='tight')"
   ]
  },
  {
   "cell_type": "code",
   "execution_count": 18,
   "id": "834c38cd",
   "metadata": {},
   "outputs": [
    {
     "data": {
      "image/png": "[encoded data removed]",
      "text/plain": [
       "<Figure size 432x288 with 1 Axes>"
      ]
     },
     "metadata": {
      "needs_background": "light"
     },
     "output_type": "display_data"
    }
   ],
   "source": [
    "g = sns.pointplot(data=data, x='source', y='time', linestyles=[''])\n",
    "#g.set_title(title + polydeg)\n",
    "g.set_title('d = ' + polydeg)\n",
    "g.set_xlabel('')\n",
    "g.set_ylabel('time / ms')\n",
    "g.figure.savefig(f'{fname}/{fname}_{polydeg}_point.jpg', transparent=False, format='jpg', bbox_inches='tight')"
   ]
  },
  {
   "cell_type": "code",
   "execution_count": null,
   "id": "9cba07fe",
   "metadata": {},
   "outputs": [],
   "source": []
  },
  {
   "cell_type": "code",
   "execution_count": null,
   "id": "a1d1554e",
   "metadata": {},
   "outputs": [],
   "source": []
  },
  {
   "cell_type": "code",
   "execution_count": null,
   "id": "b2728c4e",
   "metadata": {},
   "outputs": [],
   "source": []
  },
  {
   "cell_type": "code",
   "execution_count": null,
   "id": "59dff244",
   "metadata": {},
   "outputs": [],
   "source": []
  }
 ],
 "metadata": {
  "kernelspec": {
   "display_name": "Python 3 (ipykernel)",
   "language": "python",
   "name": "python3"
  },
  "language_info": {
   "codemirror_mode": {
    "name": "ipython",
    "version": 3
   },
   "file_extension": ".py",
   "mimetype": "text/x-python",
   "name": "python",
   "nbconvert_exporter": "python",
   "pygments_lexer": "ipython3",
   "version": "3.8.5"
  }
 },
 "nbformat": 4,
 "nbformat_minor": 5
}
