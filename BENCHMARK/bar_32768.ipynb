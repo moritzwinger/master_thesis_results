{
 "cells": [
  {
   "cell_type": "code",
   "execution_count": 1,
   "id": "e57996ee",
   "metadata": {},
   "outputs": [],
   "source": [
    "import pandas as pd\n",
    "import seaborn as sns"
   ]
  },
  {
   "cell_type": "code",
   "execution_count": 2,
   "id": "4243e5be",
   "metadata": {},
   "outputs": [],
   "source": [
    "sns.set_palette('deep')"
   ]
  },
  {
   "cell_type": "code",
   "execution_count": 3,
   "id": "beff03b7",
   "metadata": {},
   "outputs": [],
   "source": [
    "polydeg = '32768'\n",
    "strip = 'bar : '\n",
    "title = 'Barrel Shifter'\n",
    "fname = 'bar'\n",
    "\n",
    "path1 = f'{fname}/benchmark_{fname}_ModSwitch_{polydeg}.csv'   #modswitch\n",
    "path2 = f'{fname}/benchmark_{fname}_noModSwitch_{polydeg}.csv' #no modswitch"
   ]
  },
  {
   "cell_type": "code",
   "execution_count": 4,
   "id": "228693bc",
   "metadata": {},
   "outputs": [],
   "source": [
    "df1 = pd.read_csv(path1)\n",
    "df2 = pd.read_csv(path2)\n",
    "raw = (df1, df2)\n",
    "data = []\n",
    "for d in raw:\n",
    "    data.append(pd.DataFrame({'time' : d.iloc[:, 1], 'source': d.columns[1].replace(f'{strip}', '')}))\n",
    "data = pd.concat(data, axis=0).reset_index(drop=True)\n",
    "data['time'] = data['time'] * 1e-3"
   ]
  },
  {
   "cell_type": "code",
   "execution_count": 5,
   "id": "7dbb242b",
   "metadata": {},
   "outputs": [
    {
     "data": {
      "text/html": [
       "<div>\n",
       "<style scoped>\n",
       "    .dataframe tbody tr th:only-of-type {\n",
       "        vertical-align: middle;\n",
       "    }\n",
       "\n",
       "    .dataframe tbody tr th {\n",
       "        vertical-align: top;\n",
       "    }\n",
       "\n",
       "    .dataframe thead th {\n",
       "        text-align: right;\n",
       "    }\n",
       "</style>\n",
       "<table border=\"1\" class=\"dataframe\">\n",
       "  <thead>\n",
       "    <tr style=\"text-align: right;\">\n",
       "      <th></th>\n",
       "      <th>time</th>\n",
       "      <th>source</th>\n",
       "    </tr>\n",
       "  </thead>\n",
       "  <tbody>\n",
       "    <tr>\n",
       "      <th>0</th>\n",
       "      <td>13935.542</td>\n",
       "      <td>MODSWITCH</td>\n",
       "    </tr>\n",
       "    <tr>\n",
       "      <th>1</th>\n",
       "      <td>13274.524</td>\n",
       "      <td>MODSWITCH</td>\n",
       "    </tr>\n",
       "    <tr>\n",
       "      <th>2</th>\n",
       "      <td>12815.331</td>\n",
       "      <td>MODSWITCH</td>\n",
       "    </tr>\n",
       "    <tr>\n",
       "      <th>3</th>\n",
       "      <td>12783.944</td>\n",
       "      <td>MODSWITCH</td>\n",
       "    </tr>\n",
       "    <tr>\n",
       "      <th>4</th>\n",
       "      <td>12815.830</td>\n",
       "      <td>MODSWITCH</td>\n",
       "    </tr>\n",
       "    <tr>\n",
       "      <th>...</th>\n",
       "      <td>...</td>\n",
       "      <td>...</td>\n",
       "    </tr>\n",
       "    <tr>\n",
       "      <th>195</th>\n",
       "      <td>12987.081</td>\n",
       "      <td>NO MODSWITCH</td>\n",
       "    </tr>\n",
       "    <tr>\n",
       "      <th>196</th>\n",
       "      <td>12970.665</td>\n",
       "      <td>NO MODSWITCH</td>\n",
       "    </tr>\n",
       "    <tr>\n",
       "      <th>197</th>\n",
       "      <td>12974.231</td>\n",
       "      <td>NO MODSWITCH</td>\n",
       "    </tr>\n",
       "    <tr>\n",
       "      <th>198</th>\n",
       "      <td>13036.073</td>\n",
       "      <td>NO MODSWITCH</td>\n",
       "    </tr>\n",
       "    <tr>\n",
       "      <th>199</th>\n",
       "      <td>12992.373</td>\n",
       "      <td>NO MODSWITCH</td>\n",
       "    </tr>\n",
       "  </tbody>\n",
       "</table>\n",
       "<p>200 rows × 2 columns</p>\n",
       "</div>"
      ],
      "text/plain": [
       "          time         source\n",
       "0    13935.542      MODSWITCH\n",
       "1    13274.524      MODSWITCH\n",
       "2    12815.331      MODSWITCH\n",
       "3    12783.944      MODSWITCH\n",
       "4    12815.830      MODSWITCH\n",
       "..         ...            ...\n",
       "195  12987.081   NO MODSWITCH\n",
       "196  12970.665   NO MODSWITCH\n",
       "197  12974.231   NO MODSWITCH\n",
       "198  13036.073   NO MODSWITCH\n",
       "199  12992.373   NO MODSWITCH\n",
       "\n",
       "[200 rows x 2 columns]"
      ]
     },
     "execution_count": 5,
     "metadata": {},
     "output_type": "execute_result"
    }
   ],
   "source": [
    "data"
   ]
  },
  {
   "cell_type": "code",
   "execution_count": 6,
   "id": "9ee81ec3",
   "metadata": {},
   "outputs": [
    {
     "data": {
      "image/png": "[encoded data removed]",
      "text/plain": [
       "<Figure size 432x288 with 1 Axes>"
      ]
     },
     "metadata": {
      "needs_background": "light"
     },
     "output_type": "display_data"
    }
   ],
   "source": [
    "g = sns.boxplot(data=data, x='source', y='time')\n",
    "g.set_title(title + polydeg)\n",
    "g.set_xlabel('')\n",
    "g.set_ylabel('time / ms')\n",
    "g.figure.savefig( f'{fname}/{fname}_{polydeg}_box.jpg', transparent=False, format='jpg', bbox_inches='tight')"
   ]
  },
  {
   "cell_type": "code",
   "execution_count": 7,
   "id": "b073ab41",
   "metadata": {},
   "outputs": [
    {
     "data": {
      "image/png": "[encoded data removed]",
      "text/plain": [
       "<Figure size 432x288 with 1 Axes>"
      ]
     },
     "metadata": {
      "needs_background": "light"
     },
     "output_type": "display_data"
    }
   ],
   "source": [
    "g = sns.barplot(data=data, x='source', y='time')\n",
    "#g.set_title(title + polydeg)\n",
    "g.set_title('d = ' + polydeg)\n",
    "g.set_xlabel('')\n",
    "g.set_ylabel('time / ms')\n",
    "g.figure.savefig(f'{fname}/{fname}_{polydeg}_bar.jpg', transparent=False, format='jpg', bbox_inches='tight')"
   ]
  },
  {
   "cell_type": "code",
   "execution_count": 8,
   "id": "834c38cd",
   "metadata": {},
   "outputs": [
    {
     "data": {
      "image/png": "[encoded data removed]",
      "text/plain": [
       "<Figure size 432x288 with 1 Axes>"
      ]
     },
     "metadata": {
      "needs_background": "light"
     },
     "output_type": "display_data"
    }
   ],
   "source": [
    "g = sns.pointplot(data=data, x='source', y='time', linestyles=[''])\n",
    "#g.set_title(title + polydeg)\n",
    "g.set_title('d = ' + polydeg)\n",
    "g.set_xlabel('')\n",
    "g.set_ylabel('time / ms')\n",
    "g.figure.savefig(f'{fname}/{fname}_{polydeg}_point.jpg', transparent=False, format='jpg', bbox_inches='tight')"
   ]
  },
  {
   "cell_type": "code",
   "execution_count": null,
   "id": "9cba07fe",
   "metadata": {},
   "outputs": [],
   "source": []
  },
  {
   "cell_type": "code",
   "execution_count": null,
   "id": "a1d1554e",
   "metadata": {},
   "outputs": [],
   "source": []
  },
  {
   "cell_type": "code",
   "execution_count": null,
   "id": "b2728c4e",
   "metadata": {},
   "outputs": [],
   "source": []
  },
  {
   "cell_type": "code",
   "execution_count": null,
   "id": "59dff244",
   "metadata": {},
   "outputs": [],
   "source": []
  }
 ],
 "metadata": {
  "kernelspec": {
   "display_name": "Python 3 (ipykernel)",
   "language": "python",
   "name": "python3"
  },
  "language_info": {
   "codemirror_mode": {
    "name": "ipython",
    "version": 3
   },
   "file_extension": ".py",
   "mimetype": "text/x-python",
   "name": "python",
   "nbconvert_exporter": "python",
   "pygments_lexer": "ipython3",
   "version": "3.8.5"
  }
 },
 "nbformat": 4,
 "nbformat_minor": 5
}
