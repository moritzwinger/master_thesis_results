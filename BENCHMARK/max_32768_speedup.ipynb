{
 "cells": [
  {
   "cell_type": "code",
   "execution_count": 1,
   "id": "e57996ee",
   "metadata": {},
   "outputs": [],
   "source": [
    "import pandas as pd\n",
    "import math\n",
    "import seaborn as sns\n",
    "import statistics"
   ]
  },
  {
   "cell_type": "code",
   "execution_count": 2,
   "id": "4243e5be",
   "metadata": {},
   "outputs": [],
   "source": [
    "sns.set_palette('deep')"
   ]
  },
  {
   "cell_type": "code",
   "execution_count": 3,
   "id": "beff03b7",
   "metadata": {},
   "outputs": [],
   "source": [
    "polydeg = '32768'\n",
    "strip = 'max : '\n",
    "title = 'Max'\n",
    "fname = 'max'\n",
    "\n",
    "path1 = f'{fname}/benchmark_{fname}_ModSwitch_{polydeg}.csv'   #modswitch\n",
    "path2 = f'{fname}/benchmark_{fname}_noModSwitch_{polydeg}.csv' #no modswitch"
   ]
  },
  {
   "cell_type": "code",
   "execution_count": 4,
   "id": "91746ee5",
   "metadata": {},
   "outputs": [
    {
     "data": {
      "text/plain": [
       "'max/benchmark_max_ModSwitch_32768.csv'"
      ]
     },
     "execution_count": 4,
     "metadata": {},
     "output_type": "execute_result"
    }
   ],
   "source": [
    "path1"
   ]
  },
  {
   "cell_type": "code",
   "execution_count": 5,
   "id": "228693bc",
   "metadata": {},
   "outputs": [],
   "source": [
    "df1 = pd.read_csv(path1) #modSwitch\n",
    "df2 = pd.read_csv(path2) #noModswitch\n",
    "raw = (df1, df2) \n",
    "data = []\n",
    "dataNoMod = []\n",
    "dataMod = []\n",
    "\n",
    "dataNoMod.append(pd.DataFrame({'time' : df2.iloc[:, 1], 'source': df2.columns[1].replace(f'{strip}', '')}))\n",
    "dataNoMod = pd.concat(dataNoMod, axis=0).reset_index(drop=True)\n",
    "dataNoMod['time'] = dataNoMod['time'] * 1e-3\n",
    "\n",
    "dataMod.append(pd.DataFrame({'time' : df1.iloc[:, 1], 'source': df1.columns[1].replace(f'{strip}', '')}))\n",
    "dataMod = pd.concat(dataMod, axis=0).reset_index(drop=True)\n",
    "dataMod['time'] = dataMod['time'] * 1e-3\n",
    "\n",
    "speedups = []\n",
    "\n",
    "for i in range(1000):\n",
    "    # sample 100\n",
    "    subsampleNoMod = dataNoMod.sample(n=100, replace=True)\n",
    "    subsampleMod   = dataMod.sample(n=100, replace=True)\n",
    "    #calculate speedup\n",
    "    speedups.append((subsampleNoMod[\"time\"].mean()) / (subsampleMod[\"time\"].mean()))\n",
    "    \n",
    "averageSpeedup = sum(speedups) / len(speedups)    \n",
    "stdErr = statistics.stdev(speedups) / math.sqrt(len(speedups))"
   ]
  },
  {
   "cell_type": "code",
   "execution_count": 6,
   "id": "7dbb242b",
   "metadata": {},
   "outputs": [
    {
     "name": "stdout",
     "output_type": "stream",
     "text": [
      "0.9989780644184987 0.00017199910492022918\n"
     ]
    }
   ],
   "source": [
    "print(averageSpeedup, stdErr)"
   ]
  },
  {
   "cell_type": "code",
   "execution_count": null,
   "id": "59dff244",
   "metadata": {},
   "outputs": [],
   "source": []
  },
  {
   "cell_type": "code",
   "execution_count": null,
   "id": "caac2303",
   "metadata": {},
   "outputs": [],
   "source": []
  }
 ],
 "metadata": {
  "kernelspec": {
   "display_name": "Python 3 (ipykernel)",
   "language": "python",
   "name": "python3"
  },
  "language_info": {
   "codemirror_mode": {
    "name": "ipython",
    "version": 3
   },
   "file_extension": ".py",
   "mimetype": "text/x-python",
   "name": "python",
   "nbconvert_exporter": "python",
   "pygments_lexer": "ipython3",
   "version": "3.8.5"
  }
 },
 "nbformat": 4,
 "nbformat_minor": 5
}
