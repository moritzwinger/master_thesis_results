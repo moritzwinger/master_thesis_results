{
 "cells": [
  {
   "cell_type": "code",
   "execution_count": 218,
   "id": "e57996ee",
   "metadata": {},
   "outputs": [],
   "source": [
    "import pandas as pd\n",
    "import seaborn as sns"
   ]
  },
  {
   "cell_type": "code",
   "execution_count": 219,
   "id": "4243e5be",
   "metadata": {},
   "outputs": [],
   "source": [
    "sns.set_palette('deep')"
   ]
  },
  {
   "cell_type": "code",
   "execution_count": 220,
   "id": "beff03b7",
   "metadata": {},
   "outputs": [],
   "source": [
    "polydeg = '16384'\n",
    "#strip = 'adder : '\n",
    "title = 'xi2'\n",
    "fname = 'xi2'\n",
    "\n",
    "\n",
    "path1 = f'{fname}/{fname}_ModSwitch_{polydeg}.csv'   #modswitch\n",
    "path2 = f'{fname}/{fname}_noModSwitch_{polydeg}.csv' #no modswitch"
   ]
  },
  {
   "cell_type": "code",
   "execution_count": 221,
   "id": "228693bc",
   "metadata": {},
   "outputs": [],
   "source": [
    "df1 = pd.read_csv(path1)\n",
    "df2 = pd.read_csv(path2)\n",
    "\n",
    "#print(df1)\n",
    "\n",
    "dataMod = df1.iloc[:,[0,1]]\n",
    "dataNoMod = df2.iloc[:,[0,1]]\n",
    "\n",
    "dataMod['time'] = dataMod['time'] * 1e-3\n",
    "dataNoMod['time'] = dataNoMod['time'] * 1e-3\n",
    "\n",
    "\n",
    "concatenated = pd.concat([dataMod.assign(dataset='MODSWITCH'), dataNoMod.assign(dataset='NO MODSWITCH')])\n",
    "# dfMod = pd.DataFrame({'n' : df1.loc[:, \"n\"]})\n",
    "# print(dfMod)\n",
    "\n",
    "# for d in raw:\n",
    "#     data.append(pd.DataFrame({'time' : d.iloc[:, 1], 'n': d.columns[0]}))\n",
    "# data = pd.concat(data, axis=0).reset_index(drop=True)\n"
   ]
  },
  {
   "cell_type": "code",
   "execution_count": 222,
   "id": "7dbb242b",
   "metadata": {},
   "outputs": [
    {
     "data": {
      "text/html": [
       "<div>\n",
       "<style scoped>\n",
       "    .dataframe tbody tr th:only-of-type {\n",
       "        vertical-align: middle;\n",
       "    }\n",
       "\n",
       "    .dataframe tbody tr th {\n",
       "        vertical-align: top;\n",
       "    }\n",
       "\n",
       "    .dataframe thead th {\n",
       "        text-align: right;\n",
       "    }\n",
       "</style>\n",
       "<table border=\"1\" class=\"dataframe\">\n",
       "  <thead>\n",
       "    <tr style=\"text-align: right;\">\n",
       "      <th></th>\n",
       "      <th>n</th>\n",
       "      <th>time</th>\n",
       "      <th>dataset</th>\n",
       "    </tr>\n",
       "  </thead>\n",
       "  <tbody>\n",
       "    <tr>\n",
       "      <th>0</th>\n",
       "      <td>1</td>\n",
       "      <td>527.491</td>\n",
       "      <td>MODSWITCH</td>\n",
       "    </tr>\n",
       "    <tr>\n",
       "      <th>1</th>\n",
       "      <td>1</td>\n",
       "      <td>494.385</td>\n",
       "      <td>MODSWITCH</td>\n",
       "    </tr>\n",
       "    <tr>\n",
       "      <th>2</th>\n",
       "      <td>1</td>\n",
       "      <td>494.557</td>\n",
       "      <td>MODSWITCH</td>\n",
       "    </tr>\n",
       "    <tr>\n",
       "      <th>3</th>\n",
       "      <td>1</td>\n",
       "      <td>496.942</td>\n",
       "      <td>MODSWITCH</td>\n",
       "    </tr>\n",
       "    <tr>\n",
       "      <th>4</th>\n",
       "      <td>1</td>\n",
       "      <td>493.898</td>\n",
       "      <td>MODSWITCH</td>\n",
       "    </tr>\n",
       "    <tr>\n",
       "      <th>...</th>\n",
       "      <td>...</td>\n",
       "      <td>...</td>\n",
       "      <td>...</td>\n",
       "    </tr>\n",
       "    <tr>\n",
       "      <th>95</th>\n",
       "      <td>512</td>\n",
       "      <td>22266.423</td>\n",
       "      <td>NO MODSWITCH</td>\n",
       "    </tr>\n",
       "    <tr>\n",
       "      <th>96</th>\n",
       "      <td>512</td>\n",
       "      <td>22271.704</td>\n",
       "      <td>NO MODSWITCH</td>\n",
       "    </tr>\n",
       "    <tr>\n",
       "      <th>97</th>\n",
       "      <td>512</td>\n",
       "      <td>22596.444</td>\n",
       "      <td>NO MODSWITCH</td>\n",
       "    </tr>\n",
       "    <tr>\n",
       "      <th>98</th>\n",
       "      <td>512</td>\n",
       "      <td>22317.085</td>\n",
       "      <td>NO MODSWITCH</td>\n",
       "    </tr>\n",
       "    <tr>\n",
       "      <th>99</th>\n",
       "      <td>512</td>\n",
       "      <td>22265.805</td>\n",
       "      <td>NO MODSWITCH</td>\n",
       "    </tr>\n",
       "  </tbody>\n",
       "</table>\n",
       "<p>200 rows × 3 columns</p>\n",
       "</div>"
      ],
      "text/plain": [
       "      n       time       dataset\n",
       "0     1    527.491     MODSWITCH\n",
       "1     1    494.385     MODSWITCH\n",
       "2     1    494.557     MODSWITCH\n",
       "3     1    496.942     MODSWITCH\n",
       "4     1    493.898     MODSWITCH\n",
       "..  ...        ...           ...\n",
       "95  512  22266.423  NO MODSWITCH\n",
       "96  512  22271.704  NO MODSWITCH\n",
       "97  512  22596.444  NO MODSWITCH\n",
       "98  512  22317.085  NO MODSWITCH\n",
       "99  512  22265.805  NO MODSWITCH\n",
       "\n",
       "[200 rows x 3 columns]"
      ]
     },
     "execution_count": 222,
     "metadata": {},
     "output_type": "execute_result"
    }
   ],
   "source": [
    "concatenated"
   ]
  },
  {
   "cell_type": "code",
   "execution_count": 223,
   "id": "b073ab41",
   "metadata": {},
   "outputs": [
    {
     "data": {
      "image/png": "[encoded data removed]",
      "text/plain": [
       "<Figure size 432x288 with 1 Axes>"
      ]
     },
     "metadata": {
      "needs_background": "light"
     },
     "output_type": "display_data"
    }
   ],
   "source": [
    "g = sns.barplot(data=concatenated, x='n', y='time', hue=\"dataset\")\n",
    "#g.set_title(title + polydeg)\n",
    "g.set_title('d = ' + polydeg)\n",
    "g.set_xlabel('n')\n",
    "g.set_ylabel('time / ms')\n",
    "g.figure.savefig(f'{fname}/{fname}_{polydeg}_bar.jpg', transparent=False, format='jpg', bbox_inches='tight')"
   ]
  },
  {
   "cell_type": "code",
   "execution_count": 226,
   "id": "9cba07fe",
   "metadata": {},
   "outputs": [
    {
     "name": "stdout",
     "output_type": "stream",
     "text": [
      "Empty DataFrame\n",
      "Columns: [n, speedup]\n",
      "Index: []\n"
     ]
    },
    {
     "data": {
      "text/html": [
       "<div>\n",
       "<style scoped>\n",
       "    .dataframe tbody tr th:only-of-type {\n",
       "        vertical-align: middle;\n",
       "    }\n",
       "\n",
       "    .dataframe tbody tr th {\n",
       "        vertical-align: top;\n",
       "    }\n",
       "\n",
       "    .dataframe thead th {\n",
       "        text-align: right;\n",
       "    }\n",
       "</style>\n",
       "<table border=\"1\" class=\"dataframe\">\n",
       "  <thead>\n",
       "    <tr style=\"text-align: right;\">\n",
       "      <th></th>\n",
       "      <th>n</th>\n",
       "      <th>speedup</th>\n",
       "    </tr>\n",
       "  </thead>\n",
       "  <tbody>\n",
       "    <tr>\n",
       "      <th>0</th>\n",
       "      <td>1</td>\n",
       "      <td>1.139362</td>\n",
       "    </tr>\n",
       "    <tr>\n",
       "      <th>1</th>\n",
       "      <td>1</td>\n",
       "      <td>1.153837</td>\n",
       "    </tr>\n",
       "    <tr>\n",
       "      <th>2</th>\n",
       "      <td>1</td>\n",
       "      <td>1.149611</td>\n",
       "    </tr>\n",
       "    <tr>\n",
       "      <th>3</th>\n",
       "      <td>1</td>\n",
       "      <td>1.157763</td>\n",
       "    </tr>\n",
       "    <tr>\n",
       "      <th>4</th>\n",
       "      <td>1</td>\n",
       "      <td>1.135377</td>\n",
       "    </tr>\n",
       "    <tr>\n",
       "      <th>...</th>\n",
       "      <td>...</td>\n",
       "      <td>...</td>\n",
       "    </tr>\n",
       "    <tr>\n",
       "      <th>995</th>\n",
       "      <td>512</td>\n",
       "      <td>3.867708</td>\n",
       "    </tr>\n",
       "    <tr>\n",
       "      <th>996</th>\n",
       "      <td>512</td>\n",
       "      <td>3.855746</td>\n",
       "    </tr>\n",
       "    <tr>\n",
       "      <th>997</th>\n",
       "      <td>512</td>\n",
       "      <td>3.702289</td>\n",
       "    </tr>\n",
       "    <tr>\n",
       "      <th>998</th>\n",
       "      <td>512</td>\n",
       "      <td>3.728389</td>\n",
       "    </tr>\n",
       "    <tr>\n",
       "      <th>999</th>\n",
       "      <td>512</td>\n",
       "      <td>4.078850</td>\n",
       "    </tr>\n",
       "  </tbody>\n",
       "</table>\n",
       "<p>1000 rows × 2 columns</p>\n",
       "</div>"
      ],
      "text/plain": [
       "       n   speedup\n",
       "0      1  1.139362\n",
       "1      1  1.153837\n",
       "2      1  1.149611\n",
       "3      1  1.157763\n",
       "4      1  1.135377\n",
       "..   ...       ...\n",
       "995  512  3.867708\n",
       "996  512  3.855746\n",
       "997  512  3.702289\n",
       "998  512  3.728389\n",
       "999  512  4.078850\n",
       "\n",
       "[1000 rows x 2 columns]"
      ]
     },
     "execution_count": 226,
     "metadata": {},
     "output_type": "execute_result"
    }
   ],
   "source": [
    "#speedup bootstrapping analysis\n",
    "\n",
    "\n",
    "initialData = {'n': [], 'speedup': []}\n",
    "speedups = pd.DataFrame(initialData)\n",
    "\n",
    "print(speedups)\n",
    "\n",
    "for x in (2**p for p in range(0, 10)):\n",
    "    for i in range(100):\n",
    "        subsampleMod    =  dataMod[dataMod.n == x].sample(n=10, replace=True)\n",
    "        subsampleNoMod  =  dataNoMod[dataNoMod.n == x].sample(n=10, replace=True)\n",
    "        factor = (subsampleNoMod[\"time\"].mean()) / (subsampleMod[\"time\"].mean())\n",
    "        new_row = {'n': x, 'speedup': factor}\n",
    "        speedups = speedups.append(new_row, ignore_index=True)\n",
    "      \n",
    "        \n",
    "speedups = speedups.astype({\"n\": int})\n",
    "\n",
    "speedups\n",
    "#subsampleMod   = dataMod..sample(n=100, replace=True)\n",
    "#print(subsampleMod)\n"
   ]
  },
  {
   "cell_type": "code",
   "execution_count": 229,
   "id": "a1d1554e",
   "metadata": {},
   "outputs": [
    {
     "data": {
      "image/png": "[encoded data removed]",
      "text/plain": [
       "<Figure size 432x288 with 1 Axes>"
      ]
     },
     "metadata": {
      "needs_background": "light"
     },
     "output_type": "display_data"
    }
   ],
   "source": [
    "g = sns.barplot(data=speedups, x='n', y='speedup')\n",
    "#g.set_title(title + polydeg)\n",
    "g.set_title('d = ' + polydeg)\n",
    "g.set_xlabel('n')\n",
    "g.set_ylabel('speedup factor')\n",
    "g.figure.savefig(f'{fname}/{fname}_speedup_{polydeg}_bar.jpg', transparent=False, format='jpg', bbox_inches='tight')"
   ]
  },
  {
   "cell_type": "code",
   "execution_count": null,
   "id": "b2728c4e",
   "metadata": {},
   "outputs": [],
   "source": []
  },
  {
   "cell_type": "code",
   "execution_count": null,
   "id": "59dff244",
   "metadata": {},
   "outputs": [],
   "source": []
  }
 ],
 "metadata": {
  "kernelspec": {
   "display_name": "Python 3 (ipykernel)",
   "language": "python",
   "name": "python3"
  },
  "language_info": {
   "codemirror_mode": {
    "name": "ipython",
    "version": 3
   },
   "file_extension": ".py",
   "mimetype": "text/x-python",
   "name": "python",
   "nbconvert_exporter": "python",
   "pygments_lexer": "ipython3",
   "version": "3.8.5"
  }
 },
 "nbformat": 4,
 "nbformat_minor": 5
}
