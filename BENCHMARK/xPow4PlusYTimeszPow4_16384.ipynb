{
 "cells": [
  {
   "cell_type": "code",
   "execution_count": 45,
   "id": "e57996ee",
   "metadata": {},
   "outputs": [],
   "source": [
    "import pandas as pd\n",
    "import seaborn as sns"
   ]
  },
  {
   "cell_type": "code",
   "execution_count": 46,
   "id": "4243e5be",
   "metadata": {},
   "outputs": [],
   "source": [
    "sns.set_palette('deep')"
   ]
  },
  {
   "cell_type": "code",
   "execution_count": 47,
   "id": "beff03b7",
   "metadata": {},
   "outputs": [],
   "source": [
    "polydeg = '16384'\n",
    "strip = '(x^4 + y) * z^4 : '\n",
    "title = '$f(x,y,z) =( x^4 + y) \\cdot z^4, \\quad d =$'\n",
    "fname = 'xPow4PlusYTimeszPow4'\n",
    "\n",
    "path1 = f'{fname}/benchmark_{fname}_ModSwitch_{polydeg}.csv'   #modswitch\n",
    "path2 = f'{fname}/benchmark_{fname}_noModSwitch_{polydeg}.csv' #no modswitch"
   ]
  },
  {
   "cell_type": "code",
   "execution_count": 48,
   "id": "91746ee5",
   "metadata": {},
   "outputs": [
    {
     "data": {
      "text/plain": [
       "'xPow4PlusYTimeszPow4/benchmark_xPow4PlusYTimeszPow4_ModSwitch_16384.csv'"
      ]
     },
     "execution_count": 48,
     "metadata": {},
     "output_type": "execute_result"
    }
   ],
   "source": [
    "path1"
   ]
  },
  {
   "cell_type": "code",
   "execution_count": 49,
   "id": "228693bc",
   "metadata": {},
   "outputs": [],
   "source": [
    "df1 = pd.read_csv(path1)\n",
    "df2 = pd.read_csv(path2)\n",
    "raw = (df1, df2)\n",
    "data = []\n",
    "for d in raw:\n",
    "    data.append(pd.DataFrame({'time' : d.iloc[:, 1], 'source': d.columns[1].replace(f'{strip}', '')}))\n",
    "data = pd.concat(data, axis=0).reset_index(drop=True)\n",
    "data['time'] = data['time'] * 1e-3"
   ]
  },
  {
   "cell_type": "code",
   "execution_count": 50,
   "id": "7dbb242b",
   "metadata": {},
   "outputs": [
    {
     "data": {
      "text/html": [
       "<div>\n",
       "<style scoped>\n",
       "    .dataframe tbody tr th:only-of-type {\n",
       "        vertical-align: middle;\n",
       "    }\n",
       "\n",
       "    .dataframe tbody tr th {\n",
       "        vertical-align: top;\n",
       "    }\n",
       "\n",
       "    .dataframe thead th {\n",
       "        text-align: right;\n",
       "    }\n",
       "</style>\n",
       "<table border=\"1\" class=\"dataframe\">\n",
       "  <thead>\n",
       "    <tr style=\"text-align: right;\">\n",
       "      <th></th>\n",
       "      <th>time</th>\n",
       "      <th>source</th>\n",
       "    </tr>\n",
       "  </thead>\n",
       "  <tbody>\n",
       "    <tr>\n",
       "      <th>0</th>\n",
       "      <td>364.989</td>\n",
       "      <td>MODSWITCH</td>\n",
       "    </tr>\n",
       "    <tr>\n",
       "      <th>1</th>\n",
       "      <td>317.694</td>\n",
       "      <td>MODSWITCH</td>\n",
       "    </tr>\n",
       "    <tr>\n",
       "      <th>2</th>\n",
       "      <td>318.545</td>\n",
       "      <td>MODSWITCH</td>\n",
       "    </tr>\n",
       "    <tr>\n",
       "      <th>3</th>\n",
       "      <td>318.343</td>\n",
       "      <td>MODSWITCH</td>\n",
       "    </tr>\n",
       "    <tr>\n",
       "      <th>4</th>\n",
       "      <td>319.907</td>\n",
       "      <td>MODSWITCH</td>\n",
       "    </tr>\n",
       "    <tr>\n",
       "      <th>...</th>\n",
       "      <td>...</td>\n",
       "      <td>...</td>\n",
       "    </tr>\n",
       "    <tr>\n",
       "      <th>1993</th>\n",
       "      <td>327.666</td>\n",
       "      <td>NO MODSWITCH</td>\n",
       "    </tr>\n",
       "    <tr>\n",
       "      <th>1994</th>\n",
       "      <td>328.696</td>\n",
       "      <td>NO MODSWITCH</td>\n",
       "    </tr>\n",
       "    <tr>\n",
       "      <th>1995</th>\n",
       "      <td>327.554</td>\n",
       "      <td>NO MODSWITCH</td>\n",
       "    </tr>\n",
       "    <tr>\n",
       "      <th>1996</th>\n",
       "      <td>328.063</td>\n",
       "      <td>NO MODSWITCH</td>\n",
       "    </tr>\n",
       "    <tr>\n",
       "      <th>1997</th>\n",
       "      <td>328.048</td>\n",
       "      <td>NO MODSWITCH</td>\n",
       "    </tr>\n",
       "  </tbody>\n",
       "</table>\n",
       "<p>1998 rows × 2 columns</p>\n",
       "</div>"
      ],
      "text/plain": [
       "         time         source\n",
       "0     364.989      MODSWITCH\n",
       "1     317.694      MODSWITCH\n",
       "2     318.545      MODSWITCH\n",
       "3     318.343      MODSWITCH\n",
       "4     319.907      MODSWITCH\n",
       "...       ...            ...\n",
       "1993  327.666   NO MODSWITCH\n",
       "1994  328.696   NO MODSWITCH\n",
       "1995  327.554   NO MODSWITCH\n",
       "1996  328.063   NO MODSWITCH\n",
       "1997  328.048   NO MODSWITCH\n",
       "\n",
       "[1998 rows x 2 columns]"
      ]
     },
     "execution_count": 50,
     "metadata": {},
     "output_type": "execute_result"
    }
   ],
   "source": [
    "data"
   ]
  },
  {
   "cell_type": "code",
   "execution_count": 51,
   "id": "9ee81ec3",
   "metadata": {},
   "outputs": [
    {
     "data": {
      "image/png": "[encoded data removed]",
      "text/plain": [
       "<Figure size 432x288 with 1 Axes>"
      ]
     },
     "metadata": {
      "needs_background": "light"
     },
     "output_type": "display_data"
    }
   ],
   "source": [
    "g = sns.boxplot(data=data, x='source', y='time')\n",
    "g.set_title(title + polydeg)\n",
    "g.set_xlabel('')\n",
    "g.set_ylabel('time / ms')\n",
    "g.figure.savefig( f'{fname}/{fname}_{polydeg}_box.jpg', transparent=False, format='jpg', bbox_inches='tight')"
   ]
  },
  {
   "cell_type": "code",
   "execution_count": 52,
   "id": "b073ab41",
   "metadata": {},
   "outputs": [
    {
     "data": {
      "image/png": "[encoded data removed]",
      "text/plain": [
       "<Figure size 432x288 with 1 Axes>"
      ]
     },
     "metadata": {
      "needs_background": "light"
     },
     "output_type": "display_data"
    }
   ],
   "source": [
    "g = sns.barplot(data=data, x='source', y='time')\n",
    "#g.set_title(title + polydeg)\n",
    "g.set_title('d = ' + polydeg)\n",
    "g.set_xlabel('')\n",
    "g.set_ylabel('time / ms')\n",
    "g.figure.savefig(f'{fname}/{fname}_{polydeg}_bar.jpg', transparent=False, format='jpg', bbox_inches='tight')"
   ]
  },
  {
   "cell_type": "code",
   "execution_count": 53,
   "id": "834c38cd",
   "metadata": {},
   "outputs": [
    {
     "data": {
      "image/png": "[encoded data removed]",
      "text/plain": [
       "<Figure size 432x288 with 1 Axes>"
      ]
     },
     "metadata": {
      "needs_background": "light"
     },
     "output_type": "display_data"
    }
   ],
   "source": [
    "g = sns.pointplot(data=data, x='source', y='time', linestyles=[''])\n",
    "#g.set_title(title + polydeg)\n",
    "g.set_title('d = ' + polydeg)\n",
    "g.set_xlabel('')\n",
    "g.set_ylabel('time / ms')\n",
    "g.figure.savefig(f'{fname}/{fname}_{polydeg}_point.jpg', transparent=False, format='jpg', bbox_inches='tight')"
   ]
  },
  {
   "cell_type": "code",
   "execution_count": null,
   "id": "9cba07fe",
   "metadata": {},
   "outputs": [],
   "source": []
  },
  {
   "cell_type": "code",
   "execution_count": null,
   "id": "a1d1554e",
   "metadata": {},
   "outputs": [],
   "source": []
  },
  {
   "cell_type": "code",
   "execution_count": null,
   "id": "b2728c4e",
   "metadata": {},
   "outputs": [],
   "source": []
  },
  {
   "cell_type": "code",
   "execution_count": null,
   "id": "59dff244",
   "metadata": {},
   "outputs": [],
   "source": []
  }
 ],
 "metadata": {
  "kernelspec": {
   "display_name": "Python 3 (ipykernel)",
   "language": "python",
   "name": "python3"
  },
  "language_info": {
   "codemirror_mode": {
    "name": "ipython",
    "version": 3
   },
   "file_extension": ".py",
   "mimetype": "text/x-python",
   "name": "python",
   "nbconvert_exporter": "python",
   "pygments_lexer": "ipython3",
   "version": "3.8.5"
  }
 },
 "nbformat": 4,
 "nbformat_minor": 5
}
